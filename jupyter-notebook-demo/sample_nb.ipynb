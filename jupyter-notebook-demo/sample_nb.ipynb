{
 "cells": [
  {
   "cell_type": "markdown",
   "metadata": {},
   "source": [
    "# jupyter notebooks intro\n",
    "This exercise is intended to introduce the concept on ipython notebooks, why we use them, and how the interact with other python files."
   ]
  },
  {
   "cell_type": "markdown",
   "metadata": {},
   "source": [
    "## WHY?\n",
    "The markdown with embedded code concept is available for a few languages (R and python among them) but it is a pretty foreign concept for most programmers. So why do we use them? Here are a couple reasons\n",
    "\n",
    "Explaining a concept\n",
    "> This is a great use of the notebook format. You can have beautiful markdown with embedded, runnable code samples. Well formatted text with hands on code demos can be very valuable. In this notebook I use the format to explain the python module system.\n",
    "\n",
    "Runnable documentation\n",
    "> In this class we will also use the format to call functions from libraries we write. It makes it easy to explain what your function call is doing and provide a runnable example so people can see it in action.\n",
    "\n",
    "There are other reasons to use them, but they essentially boil down to being able to use text to explain code or using code to give more understanding to some text that was written."
   ]
  },
  {
   "cell_type": "markdown",
   "metadata": {},
   "source": [
    "### simple imports\n",
    "In python each file is a `module`. We can import a .py file using the import keyword followed by the name of the file (without the file extension)"
   ]
  },
  {
   "cell_type": "code",
   "execution_count": null,
   "metadata": {
    "collapsed": false
   },
   "outputs": [],
   "source": [
    "import sample\n",
    "\n",
    "sample.f1()"
   ]
  },
  {
   "cell_type": "markdown",
   "metadata": {},
   "source": [
    "### module alias\n",
    "Sometimes, we don't want to use the full name of a module every time we  use the module. We can alias the module to some arbitrary name"
   ]
  },
  {
   "cell_type": "code",
   "execution_count": null,
   "metadata": {
    "collapsed": false
   },
   "outputs": [],
   "source": [
    "import sample2 as s\n",
    "\n",
    "s.f2()"
   ]
  },
  {
   "cell_type": "markdown",
   "metadata": {},
   "source": [
    "### Import specific pieces\n",
    "We can import just one function (or class or variable) with the following syntax. If we have a few things we want to import from a module we can do\n",
    "\n",
    "`from module import thing1, thing2, thing3 ...`"
   ]
  },
  {
   "cell_type": "code",
   "execution_count": null,
   "metadata": {
    "collapsed": false
   },
   "outputs": [],
   "source": [
    "from sample3 import f3\n",
    "\n",
    "f3()"
   ]
  },
  {
   "cell_type": "markdown",
   "metadata": {},
   "source": [
    "### Import everything from  module\n",
    "Careful with this. It is generally frowned upon because it pollutes the namespace (higher likelihood of two things having the same name)"
   ]
  },
  {
   "cell_type": "code",
   "execution_count": null,
   "metadata": {
    "collapsed": false
   },
   "outputs": [],
   "source": [
    "from sample import *\n",
    "\n",
    "f1()"
   ]
  },
  {
   "cell_type": "markdown",
   "metadata": {},
   "source": [
    "### Nested modules\n",
    "If you have  subdirectory which contains other python files you can import nested modules with the following syntax."
   ]
  },
  {
   "cell_type": "code",
   "execution_count": null,
   "metadata": {
    "collapsed": false
   },
   "outputs": [],
   "source": [
    "import nest.sample4\n",
    "\n",
    "nest.sample4.f4()"
   ]
  },
  {
   "cell_type": "markdown",
   "metadata": {},
   "source": [
    "### Good idea to alias long names\n",
    "This is especially imported for nested modules. Your time is valuable. Writing long names is a waste of time. Aliases can help."
   ]
  },
  {
   "cell_type": "code",
   "execution_count": null,
   "metadata": {
    "collapsed": false
   },
   "outputs": [],
   "source": [
    "import nest.sample4 as s\n",
    "\n",
    "s.f4()"
   ]
  }
 ],
 "metadata": {
  "kernelspec": {
   "display_name": "Python 3",
   "language": "python",
   "name": "python3"
  },
  "language_info": {
   "codemirror_mode": {
    "name": "ipython",
    "version": 3
   },
   "file_extension": ".py",
   "mimetype": "text/x-python",
   "name": "python",
   "nbconvert_exporter": "python",
   "pygments_lexer": "ipython3",
   "version": "3.6.0"
  }
 },
 "nbformat": 4,
 "nbformat_minor": 2
}
